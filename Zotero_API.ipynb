{
 "cells": [
  {
   "cell_type": "code",
   "id": "initial_id",
   "metadata": {
    "collapsed": true,
    "ExecuteTime": {
     "end_time": "2025-10-24T11:31:01.423496Z",
     "start_time": "2025-10-24T11:31:01.421576Z"
    }
   },
   "source": [
    "from dotenv import load_dotenv\n",
    "from pyzotero import zotero\n",
    "import os\n",
    "from pprint import pprint, pformat"
   ],
   "outputs": [],
   "execution_count": 11
  },
  {
   "metadata": {
    "ExecuteTime": {
     "end_time": "2025-10-24T07:55:32.324866Z",
     "start_time": "2025-10-24T07:55:32.278213Z"
    }
   },
   "cell_type": "code",
   "source": [
    "load_dotenv()\n",
    "zot = zotero.Zotero(os.getenv(\"ZOTERO_ID\"), \"user\", os.getenv(\"ZOTERO_API_KEY\"))"
   ],
   "id": "99ca1f701b2379b4",
   "outputs": [],
   "execution_count": 6
  },
  {
   "metadata": {
    "ExecuteTime": {
     "end_time": "2025-10-24T11:17:04.392924Z",
     "start_time": "2025-10-24T11:17:02.101361Z"
    }
   },
   "cell_type": "code",
   "source": "zot.count_items()",
   "id": "82ac66ef41d19611",
   "outputs": [
    {
     "data": {
      "text/plain": [
       "4221"
      ]
     },
     "execution_count": 7,
     "metadata": {},
     "output_type": "execute_result"
    }
   ],
   "execution_count": 7
  },
  {
   "metadata": {
    "ExecuteTime": {
     "end_time": "2025-10-24T11:31:03.228149Z",
     "start_time": "2025-10-24T11:31:02.441724Z"
    }
   },
   "cell_type": "code",
   "source": [
    "collections = zot.collections()\n",
    "collection_dict = {}\n",
    "for collection in collections:\n",
    "    collection_dict[collection['data']['name']] = collection['data']['key']\n",
    "pprint(collection_dict)"
   ],
   "id": "8f572014281731df",
   "outputs": [
    {
     "name": "stdout",
     "output_type": "stream",
     "text": [
      "{'Can neural mass models accurately capture synaptic plasticity mechanisms - 13 Jul 2025': 'WKYIZNNF',\n",
      " 'Cited in - Neuroplasticity Thread': '4ZH73WBS',\n",
      " 'Cited in entropyThread - 01 Aug 2025': 'WPXG7R5M',\n",
      " 'ComplexityEntropyChaos': 'ZVCGI7JK',\n",
      " 'ConsensusCitation - 31 Jul 2025': 'KMSLSSL7',\n",
      " 'EEG': 'IK26UWYI',\n",
      " 'EEG_For_Meditation': '752GWEEQ',\n",
      " 'FundamentalBooks': 'I6MYWKWQ',\n",
      " 'How are neuroplasticity, learning and recovery modeleld in state of the art brain models like Neural Mass Models - 13 Jul 2025': '88AFQG3V',\n",
      " 'How can mechanistic synaptic plasticity rules be computationally scaled and integrated into neural mass models to create biologically realistic, adaptive brain network simulations that capture learning, recovery, and pathological dynamics - 13 Jul 25': 'CL6BNXEM',\n",
      " 'IIT': 'PBCQNZV2',\n",
      " 'MasterThesis': 'VEG5XGN8',\n",
      " 'Mystical Entropy': 'PH7L637T',\n",
      " 'Neuroplasticity+NMM-review': 'QPEWATYL',\n",
      " 'NotionSync': 'B6GWT9RN',\n",
      " 'PCI-From-Resting-State-Reconstruction': '574RX5AA',\n",
      " 'Phd': '24HXFNLC',\n",
      " 'RELAX': 'GRBTCVDD',\n",
      " 'SSPR': '6CD5BFC3',\n",
      " 'SourcesFromConsenusRevisioned': '7C5FHTKW',\n",
      " 'ThesisAiReview': 'JPLJZY3K',\n",
      " 'additionalLiteratureFromMyMasters': 'VNZEV52X',\n",
      " 'avalanche': 'W6SQ9SHI',\n",
      " 'chaos': 'UMZAWQXK',\n",
      " 'combined': 'BG426P7D',\n",
      " 'connectivity/coupling': 'TEJ9HX7K',\n",
      " 'consciousness': '9K7XL6ZV',\n",
      " 'costorm': 'NWSNYW9Y',\n",
      " 'criticality/phase_transition': 'NMRQ5QU3',\n",
      " 'eeg-processing': 'G3VDTCDA',\n",
      " 'eegProcessing': 'IFBBW8HR',\n",
      " 'entropy/complexity': 'ARB9GMLC',\n",
      " 'entropyAndComplexity': 'MM8C9AJE',\n",
      " 'ident of dynamics': 'VJSUNZGG',\n",
      " 'missingPDF': '5C6SCHNY',\n",
      " 'neurology': 'RHIJGXRK',\n",
      " 'objectDetection_marioKart': 'APBXPTLC',\n",
      " 'other': 'QDFJVKRJ',\n",
      " 'otherToRead': 'JJXBZAPG',\n",
      " 'phd_project_sources': 'JC6BRLKB',\n",
      " 'prejaasOriginalSources': 'JK683IHA',\n",
      " 'private': 'AIVQ4ZVK',\n",
      " 'projectOutputs': '9VE6UNXA',\n",
      " 'psychedelics': 'K7QSQYKD',\n",
      " 'review_rebooting_consciousness': 'VAIVV8EY',\n",
      " 'scico-test': 'ABZYKJ5Q',\n",
      " 'simulation & parameter estimation': 'SCLBP7K8',\n",
      " 'thesisAiSummary': 'VHFEF262',\n",
      " 'thesisAiSummary1': '8P4IQWQH',\n",
      " 'zotero_rag_test': '46RLNJMW'}\n"
     ]
    }
   ],
   "execution_count": 12
  }
 ],
 "metadata": {
  "kernelspec": {
   "display_name": "Python 3",
   "language": "python",
   "name": "python3"
  },
  "language_info": {
   "codemirror_mode": {
    "name": "ipython",
    "version": 2
   },
   "file_extension": ".py",
   "mimetype": "text/x-python",
   "name": "python",
   "nbconvert_exporter": "python",
   "pygments_lexer": "ipython2",
   "version": "2.7.6"
  }
 },
 "nbformat": 4,
 "nbformat_minor": 5
}
