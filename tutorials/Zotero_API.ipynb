{
 "cells": [
  {
   "cell_type": "code",
   "id": "initial_id",
   "metadata": {
    "collapsed": true,
    "ExecuteTime": {
     "end_time": "2025-10-29T09:30:53.974285Z",
     "start_time": "2025-10-29T09:30:53.972053Z"
    }
   },
   "source": [
    "from dotenv import load_dotenv\n",
    "from pyzotero import zotero\n",
    "import os\n",
    "from pprint import pprint, pformat"
   ],
   "outputs": [],
   "execution_count": 4
  },
  {
   "metadata": {
    "ExecuteTime": {
     "end_time": "2025-10-29T09:30:54.042454Z",
     "start_time": "2025-10-29T09:30:54.018057Z"
    }
   },
   "cell_type": "code",
   "source": [
    "load_dotenv()\n",
    "zot = zotero.Zotero(os.getenv(\"ZOTERO_ID\"), \"user\", os.getenv(\"ZOTERO_API_KEY\"), local=False)"
   ],
   "id": "99ca1f701b2379b4",
   "outputs": [],
   "execution_count": 5
  },
  {
   "metadata": {
    "ExecuteTime": {
     "end_time": "2025-10-29T09:30:57.256480Z",
     "start_time": "2025-10-29T09:30:54.065159Z"
    }
   },
   "cell_type": "code",
   "source": "zot.count_items()",
   "id": "82ac66ef41d19611",
   "outputs": [
    {
     "data": {
      "text/plain": [
       "4224"
      ]
     },
     "execution_count": 6,
     "metadata": {},
     "output_type": "execute_result"
    }
   ],
   "execution_count": 6
  },
  {
   "metadata": {
    "ExecuteTime": {
     "end_time": "2025-10-29T09:30:58.153860Z",
     "start_time": "2025-10-29T09:30:57.307830Z"
    }
   },
   "cell_type": "code",
   "source": [
    "collections = zot.collections()\n",
    "collection_dict = {}\n",
    "for collection in collections:\n",
    "    collection_dict[collection['data']['name']] = collection['data']['key']\n",
    "pprint(collection_dict)"
   ],
   "id": "8f572014281731df",
   "outputs": [
    {
     "name": "stdout",
     "output_type": "stream",
     "text": [
      "{'Can neural mass models accurately capture synaptic plasticity mechanisms - 13 Jul 2025': 'WKYIZNNF',\n",
      " 'Cited in - Neuroplasticity Thread': '4ZH73WBS',\n",
      " 'Cited in entropyThread - 01 Aug 2025': 'WPXG7R5M',\n",
      " 'ComplexityEntropyChaos': 'ZVCGI7JK',\n",
      " 'ConsensusCitation - 31 Jul 2025': 'KMSLSSL7',\n",
      " 'EEG': 'IK26UWYI',\n",
      " 'EEG_For_Meditation': '752GWEEQ',\n",
      " 'FundamentalBooks': 'I6MYWKWQ',\n",
      " 'How are neuroplasticity, learning and recovery modeleld in state of the art brain models like Neural Mass Models - 13 Jul 2025': '88AFQG3V',\n",
      " 'How can mechanistic synaptic plasticity rules be computationally scaled and integrated into neural mass models to create biologically realistic, adaptive brain network simulations that capture learning, recovery, and pathological dynamics - 13 Jul 25': 'CL6BNXEM',\n",
      " 'IIT': 'PBCQNZV2',\n",
      " 'MasterThesis': 'VEG5XGN8',\n",
      " 'Mystical Entropy': 'PH7L637T',\n",
      " 'Neuroplasticity+NMM-review': 'QPEWATYL',\n",
      " 'NotionSync': 'B6GWT9RN',\n",
      " 'PCI-From-Resting-State-Reconstruction': '574RX5AA',\n",
      " 'Phd': '24HXFNLC',\n",
      " 'RELAX': 'GRBTCVDD',\n",
      " 'SSPR': '6CD5BFC3',\n",
      " 'SourcesFromConsenusRevisioned': '7C5FHTKW',\n",
      " 'ThesisAiReview': 'JPLJZY3K',\n",
      " 'additionalLiteratureFromMyMasters': 'VNZEV52X',\n",
      " 'avalanche': 'W6SQ9SHI',\n",
      " 'chaos': 'UMZAWQXK',\n",
      " 'combined': 'BG426P7D',\n",
      " 'connectivity/coupling': 'TEJ9HX7K',\n",
      " 'consciousness': '9K7XL6ZV',\n",
      " 'costorm': 'NWSNYW9Y',\n",
      " 'criticality/phase_transition': 'NMRQ5QU3',\n",
      " 'eeg-processing': 'G3VDTCDA',\n",
      " 'eegProcessing': 'IFBBW8HR',\n",
      " 'entropy/complexity': 'ARB9GMLC',\n",
      " 'entropyAndComplexity': 'MM8C9AJE',\n",
      " 'ident of dynamics': 'VJSUNZGG',\n",
      " 'missingPDF': '5C6SCHNY',\n",
      " 'neurology': 'RHIJGXRK',\n",
      " 'objectDetection_marioKart': 'APBXPTLC',\n",
      " 'other': 'QDFJVKRJ',\n",
      " 'otherToRead': 'JJXBZAPG',\n",
      " 'phd_project_sources': 'JC6BRLKB',\n",
      " 'prejaasOriginalSources': 'JK683IHA',\n",
      " 'private': 'AIVQ4ZVK',\n",
      " 'projectOutputs': '9VE6UNXA',\n",
      " 'psychedelics': 'K7QSQYKD',\n",
      " 'review_rebooting_consciousness': 'VAIVV8EY',\n",
      " 'scico-test': 'ABZYKJ5Q',\n",
      " 'simulation & parameter estimation': 'SCLBP7K8',\n",
      " 'thesisAiSummary': 'VHFEF262',\n",
      " 'thesisAiSummary1': '8P4IQWQH',\n",
      " 'zotero_rag_test': '46RLNJMW'}\n"
     ]
    }
   ],
   "execution_count": 7
  },
  {
   "metadata": {
    "ExecuteTime": {
     "end_time": "2025-10-29T09:30:59.960349Z",
     "start_time": "2025-10-29T09:30:58.204288Z"
    }
   },
   "cell_type": "code",
   "source": [
    "item_dict = {}\n",
    "for item in zot.collection_items('9K7XL6ZV'):\n",
    "    item_id = item.get('key')\n",
    "    item_name = item.get('data', {}).get('title')\n",
    "    item_dict[item_name] = item_id\n",
    "pprint(item_dict)"
   ],
   "id": "7a37e505b2a9fcc9",
   "outputs": [
    {
     "name": "stdout",
     "output_type": "stream",
     "text": [
      "{'A theoretically based index of consciousness independent of sensory processing and behavior': 'MQJ696B2',\n",
      " 'Application of a neural complexity measure to multichannel EEG': 'XF9YTG4C',\n",
      " 'Are we really unconscious in “unconscious” states? Common assumptions revisited': 'U59UVCUQ',\n",
      " 'Attachment': 'RX4TQM7G',\n",
      " 'Consciousness is supported by near-critical slow cortical electrodynamics': 'FMFSIDY8',\n",
      " 'Criticality of resting-state EEG predicts perturbational complexity and level of consciousness during anesthesia': 'PTKEZXUM',\n",
      " 'Criticality supports cross-frequency cortical-thalamic information transfer during conscious states': 'NZKUHVRF',\n",
      " 'Editorial: Dissociations between neural activity and conscious state: a key to understanding consciousness': 'DTYLUE9L',\n",
      " 'Explanation of near-death experiences: a systematic analysis of case reports and qualitative research': 'AIBUGQZZ',\n",
      " 'Full Text': 'EJCNRRMT',\n",
      " 'Full Text PDF': 'UNVKEPY3',\n",
      " 'Human Consciousness: Where Is It From and What Is It for': 'W43V37X2',\n",
      " 'Level of Consciousness': 'JQ2M9R32',\n",
      " 'Measures of entropy and complexity in altered states of consciousness': 'IJS8L3QJ',\n",
      " 'Neural complexity is a common denominator of human consciousness across diverse regimes of cortical dynamics': 'UC9XSE2H',\n",
      " 'Printable HTML': 'AHF44YZA',\n",
      " 'PubMed Central Full Text PDF': '9EI8SW25',\n",
      " 'PubMed Central Link': 'RVVMTRRA',\n",
      " 'PubMed entry': 'YYAPFANW',\n",
      " 'Snapshot': '7H23CGC7',\n",
      " 'Theories of consciousness': '6UQ4XNCZ',\n",
      " 'This is your brain on death: a comparative analysis of a near-death experience and subsequent 5-Methoxy-DMT experience': '9N5JDBP4',\n",
      " 'Toker et al. - Criticality supports cross-frequency cortical-thal.pdf': 'SF4J8F67'}\n"
     ]
    }
   ],
   "execution_count": 8
  },
  {
   "metadata": {
    "ExecuteTime": {
     "end_time": "2025-10-29T09:31:00.431502Z",
     "start_time": "2025-10-29T09:31:00.010938Z"
    }
   },
   "cell_type": "code",
   "source": "pprint(zot.item('MQJ696B2'))",
   "id": "97e477eaa63458e",
   "outputs": [
    {
     "name": "stdout",
     "output_type": "stream",
     "text": [
      "{'data': {'DOI': '10.1126/scitranslmed.3006294',\n",
      "          'ISSN': '1946-6242',\n",
      "          'abstractNote': 'One challenging aspect of the clinical assessment '\n",
      "                          'of brain-injured, unresponsive patients is the lack '\n",
      "                          'of an objective measure of consciousness that is '\n",
      "                          \"independent of the subject's ability to interact \"\n",
      "                          'with the external environment. Theoretical '\n",
      "                          'considerations suggest that consciousness depends '\n",
      "                          \"on the brain's ability to support complex activity \"\n",
      "                          'patterns that are, at once, distributed among '\n",
      "                          'interacting cortical areas (integrated) and '\n",
      "                          'differentiated in space and time '\n",
      "                          '(information-rich). We introduce and test a '\n",
      "                          'theory-driven index of the level of consciousness '\n",
      "                          'called the perturbational complexity index (PCI). '\n",
      "                          'PCI is calculated by (i) perturbing the cortex with '\n",
      "                          'transcranial magnetic stimulation (TMS) to engage '\n",
      "                          'distributed interactions in the brain (integration) '\n",
      "                          'and (ii) compressing the spatiotemporal pattern of '\n",
      "                          'these electrocortical responses to measure their '\n",
      "                          'algorithmic complexity (information). We test PCI '\n",
      "                          'on a large data set of TMS-evoked potentials '\n",
      "                          'recorded in healthy subjects during wakefulness, '\n",
      "                          'dreaming, nonrapid eye movement sleep, and '\n",
      "                          'different levels of sedation induced by anesthetic '\n",
      "                          'agents (midazolam, xenon, and propofol), as well as '\n",
      "                          'in patients who had emerged from coma (vegetative '\n",
      "                          'state, minimally conscious state, and locked-in '\n",
      "                          'syndrome). PCI reliably discriminated the level of '\n",
      "                          'consciousness in single individuals during '\n",
      "                          'wakefulness, sleep, and anesthesia, as well as in '\n",
      "                          'patients who had emerged from coma and recovered a '\n",
      "                          'minimal level of consciousness. PCI can potentially '\n",
      "                          'be used for objective determination of the level of '\n",
      "                          'consciousness at the bedside. Copyright © 2013, '\n",
      "                          'American Association for the Advancement of '\n",
      "                          'Science.',\n",
      "          'accessDate': '',\n",
      "          'archive': 'Scopus',\n",
      "          'archiveLocation': '',\n",
      "          'callNumber': '',\n",
      "          'collections': ['VEG5XGN8', '9K7XL6ZV', 'JPLJZY3K'],\n",
      "          'creators': [{'creatorType': 'author',\n",
      "                        'firstName': 'A.G.',\n",
      "                        'lastName': 'Casali'},\n",
      "                       {'creatorType': 'author',\n",
      "                        'firstName': 'O.',\n",
      "                        'lastName': 'Gosseries'},\n",
      "                       {'creatorType': 'author',\n",
      "                        'firstName': 'M.',\n",
      "                        'lastName': 'Rosanova'},\n",
      "                       {'creatorType': 'author',\n",
      "                        'firstName': 'M.',\n",
      "                        'lastName': 'Boly'},\n",
      "                       {'creatorType': 'author',\n",
      "                        'firstName': 'S.',\n",
      "                        'lastName': 'Sarasso'},\n",
      "                       {'creatorType': 'author',\n",
      "                        'firstName': 'K.R.',\n",
      "                        'lastName': 'Casali'},\n",
      "                       {'creatorType': 'author',\n",
      "                        'firstName': 'S.',\n",
      "                        'lastName': 'Casarotto'},\n",
      "                       {'creatorType': 'author',\n",
      "                        'firstName': 'M.-A.',\n",
      "                        'lastName': 'Bruno'},\n",
      "                       {'creatorType': 'author',\n",
      "                        'firstName': 'S.',\n",
      "                        'lastName': 'Laureys'},\n",
      "                       {'creatorType': 'author',\n",
      "                        'firstName': 'G.',\n",
      "                        'lastName': 'Tononi'},\n",
      "                       {'creatorType': 'author',\n",
      "                        'firstName': 'M.',\n",
      "                        'lastName': 'Massimini'}],\n",
      "          'date': '2013',\n",
      "          'dateAdded': '2024-02-13T07:40:12Z',\n",
      "          'dateModified': '2025-08-15T11:29:07Z',\n",
      "          'extra': 'Citation Key: casaliTheoreticallyBasedIndex2013',\n",
      "          'issue': '198',\n",
      "          'itemType': 'journalArticle',\n",
      "          'journalAbbreviation': '',\n",
      "          'key': 'MQJ696B2',\n",
      "          'language': 'English',\n",
      "          'libraryCatalog': 'Scopus',\n",
      "          'pages': '',\n",
      "          'publicationTitle': 'Science Translational Medicine',\n",
      "          'relations': {'dc:relation': ['http://zotero.org/users/12321588/items/PTKEZXUM',\n",
      "                                        'http://zotero.org/users/12321588/items/6LFE7TNU'],\n",
      "                        'dc:replaces': 'http://zotero.org/users/12321588/items/SRQM7G8Z',\n",
      "                        'owl:sameAs': 'http://zotero.org/groups/6091491/items/4HXVWYJQ'},\n",
      "          'rights': '',\n",
      "          'series': '',\n",
      "          'seriesText': '',\n",
      "          'seriesTitle': '',\n",
      "          'shortTitle': '',\n",
      "          'tags': [{'tag': 'not read'}],\n",
      "          'title': 'A theoretically based index of consciousness independent '\n",
      "                   'of sensory processing and behavior',\n",
      "          'url': '',\n",
      "          'version': 11202,\n",
      "          'volume': '5'},\n",
      " 'key': 'MQJ696B2',\n",
      " 'library': {'id': 12321588,\n",
      "             'links': {'alternate': {'href': 'https://www.zotero.org/soenkevl',\n",
      "                                     'type': 'text/html'}},\n",
      "             'name': 'Soenke van Loh',\n",
      "             'type': 'user'},\n",
      " 'links': {'alternate': {'href': 'https://www.zotero.org/soenkevl/items/MQJ696B2',\n",
      "                         'type': 'text/html'},\n",
      "           'attachment': {'attachmentSize': 1775718,\n",
      "                          'attachmentType': 'application/pdf',\n",
      "                          'href': 'https://api.zotero.org/users/12321588/items/BQXMN6NY',\n",
      "                          'type': 'application/json'},\n",
      "           'self': {'href': 'https://api.zotero.org/users/12321588/items/MQJ696B2',\n",
      "                    'type': 'application/json'}},\n",
      " 'meta': {'creatorSummary': 'Casali et al.',\n",
      "          'numChildren': 3,\n",
      "          'parsedDate': '2013'},\n",
      " 'version': 11202}\n"
     ]
    }
   ],
   "execution_count": 9
  },
  {
   "metadata": {
    "ExecuteTime": {
     "end_time": "2025-10-29T10:10:30.570747Z",
     "start_time": "2025-10-29T10:10:30.567849Z"
    }
   },
   "cell_type": "code",
   "source": [
    "def local_pdf_id_from_item_id(item_id: str) -> str:\n",
    "    item = zot.item(item_id)\n",
    "    links = item.get('links', {})\n",
    "    attachment = links.get('attachment', {})\n",
    "    if not attachment.get('attachmentType') == 'application/pdf':\n",
    "        return ''\n",
    "    href = attachment.get('href', '')\n",
    "    local_id = href.split(os.sep)[-1]\n",
    "    return local_id\n",
    "\n",
    "def pdf_path_from_local_pdf_id(local_id: str) -> str:\n",
    "    storage_path = os.path.join(os.getenv('LOCAL_ZOTERO_PATH'), 'storage', local_id)\n",
    "    if not (files := os.listdir(storage_path)):\n",
    "        return ''\n",
    "    for file in files:\n",
    "        if file.endswith('.pdf'):\n",
    "            pdf_path = os.path.join(storage_path, file)\n",
    "            return pdf_path\n",
    "    return ''\n",
    "\n",
    "def local_pdf_path_from_item_id(item_id: str) -> (str, str):\n",
    "    \"\"\"Find the local pdf based on the item_id\"\"\"\n",
    "    local_id = local_pdf_id_from_item_id(item_id)\n",
    "    return pdf_path_from_local_pdf_id(local_id)\n"
   ],
   "id": "b45baf638396c90b",
   "outputs": [],
   "execution_count": 14
  },
  {
   "metadata": {
    "ExecuteTime": {
     "end_time": "2025-10-29T10:10:32.265514Z",
     "start_time": "2025-10-29T10:10:31.587229Z"
    }
   },
   "cell_type": "code",
   "source": "local_pdf_path_from_item_id('MQJ696B2')",
   "id": "a6238289e2e26cd8",
   "outputs": [
    {
     "data": {
      "text/plain": [
       "'/home/soenke/Zotero/storage/BQXMN6NY/Casali et al. - 2013 - A theoretically based index of consciousness indep.pdf'"
      ]
     },
     "execution_count": 15,
     "metadata": {},
     "output_type": "execute_result"
    }
   ],
   "execution_count": 15
  },
  {
   "metadata": {
    "ExecuteTime": {
     "end_time": "2025-10-29T10:22:51.937853Z",
     "start_time": "2025-10-29T10:22:51.897027Z"
    }
   },
   "cell_type": "code",
   "source": "",
   "id": "68b6ffd380bf887f",
   "outputs": [
    {
     "ename": "TypeError",
     "evalue": "Zotero.items() takes 1 positional argument but 2 were given",
     "output_type": "error",
     "traceback": [
      "\u001B[31m---------------------------------------------------------------------------\u001B[39m",
      "\u001B[31mTypeError\u001B[39m                                 Traceback (most recent call last)",
      "\u001B[36mCell\u001B[39m\u001B[36m \u001B[39m\u001B[32mIn[20]\u001B[39m\u001B[32m, line 1\u001B[39m\n\u001B[32m----> \u001B[39m\u001B[32m1\u001B[39m \u001B[43mzot\u001B[49m\u001B[43m.\u001B[49m\u001B[43mitems\u001B[49m\u001B[43m(\u001B[49m\u001B[33;43m'\u001B[39;49m\u001B[33;43mEntropy\u001B[39;49m\u001B[33;43m'\u001B[39;49m\u001B[43m)\u001B[49m\n",
      "\u001B[36mFile \u001B[39m\u001B[32m~/PycharmProjects/scico/.venv/lib/python3.13/site-packages/pyzotero/zotero.py:182\u001B[39m, in \u001B[36mretrieve.<locals>.wrapped_f\u001B[39m\u001B[34m(self, *args, **kwargs)\u001B[39m\n\u001B[32m    180\u001B[39m \u001B[38;5;28;01mif\u001B[39;00m kwargs:\n\u001B[32m    181\u001B[39m     \u001B[38;5;28mself\u001B[39m.add_parameters(**kwargs)\n\u001B[32m--> \u001B[39m\u001B[32m182\u001B[39m retrieved = \u001B[38;5;28mself\u001B[39m._retrieve_data(\u001B[43mfunc\u001B[49m\u001B[43m(\u001B[49m\u001B[38;5;28;43mself\u001B[39;49m\u001B[43m,\u001B[49m\u001B[43m \u001B[49m\u001B[43m*\u001B[49m\u001B[43margs\u001B[49m\u001B[43m)\u001B[49m)\n\u001B[32m    183\u001B[39m \u001B[38;5;66;03m# we now always have links in the header response\u001B[39;00m\n\u001B[32m    184\u001B[39m \u001B[38;5;28mself\u001B[39m.links = \u001B[38;5;28mself\u001B[39m._extract_links()\n",
      "\u001B[31mTypeError\u001B[39m: Zotero.items() takes 1 positional argument but 2 were given"
     ]
    }
   ],
   "execution_count": 20
  }
 ],
 "metadata": {
  "kernelspec": {
   "display_name": "Python 3",
   "language": "python",
   "name": "python3"
  },
  "language_info": {
   "codemirror_mode": {
    "name": "ipython",
    "version": 2
   },
   "file_extension": ".py",
   "mimetype": "text/x-python",
   "name": "python",
   "nbconvert_exporter": "python",
   "pygments_lexer": "ipython2",
   "version": "2.7.6"
  }
 },
 "nbformat": 4,
 "nbformat_minor": 5
}
