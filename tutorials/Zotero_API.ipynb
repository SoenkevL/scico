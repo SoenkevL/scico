{
 "cells": [
  {
   "cell_type": "code",
   "id": "initial_id",
   "metadata": {
    "collapsed": true,
    "ExecuteTime": {
     "end_time": "2025-10-31T21:57:37.061142Z",
     "start_time": "2025-10-31T21:57:37.058691Z"
    }
   },
   "source": [
    "from dotenv import load_dotenv\n",
    "from pyzotero import zotero\n",
    "import os\n",
    "from pprint import pprint, pformat"
   ],
   "outputs": [],
   "execution_count": 15
  },
  {
   "metadata": {
    "ExecuteTime": {
     "end_time": "2025-10-31T21:57:37.108143Z",
     "start_time": "2025-10-31T21:57:37.080786Z"
    }
   },
   "cell_type": "code",
   "source": [
    "load_dotenv()\n",
    "zot = zotero.Zotero(os.getenv(\"ZOTERO_ID\"), \"user\", os.getenv(\"ZOTERO_API_KEY\"), local=False)"
   ],
   "id": "99ca1f701b2379b4",
   "outputs": [],
   "execution_count": 16
  },
  {
   "metadata": {
    "ExecuteTime": {
     "end_time": "2025-10-31T21:57:38.905243Z",
     "start_time": "2025-10-31T21:57:37.129516Z"
    }
   },
   "cell_type": "code",
   "source": "zot.count_items()",
   "id": "82ac66ef41d19611",
   "outputs": [
    {
     "data": {
      "text/plain": [
       "4226"
      ]
     },
     "execution_count": 17,
     "metadata": {},
     "output_type": "execute_result"
    }
   ],
   "execution_count": 17
  },
  {
   "metadata": {
    "ExecuteTime": {
     "end_time": "2025-10-31T21:57:39.356610Z",
     "start_time": "2025-10-31T21:57:38.955579Z"
    }
   },
   "cell_type": "code",
   "source": [
    "library = zot.collections()\n",
    "collection_dict = {}\n",
    "for collection in library:\n",
    "    collection_dict[collection['data']['name']] = collection['data']['key']\n",
    "pprint(collection_dict)"
   ],
   "id": "1e2078ae8a2fc41f",
   "outputs": [
    {
     "name": "stdout",
     "output_type": "stream",
     "text": [
      "{'Can neural mass models accurately capture synaptic plasticity mechanisms - 13 Jul 2025': 'WKYIZNNF',\n",
      " 'Cited in - Neuroplasticity Thread': '4ZH73WBS',\n",
      " 'Cited in entropyThread - 01 Aug 2025': 'WPXG7R5M',\n",
      " 'ComplexityEntropyChaos': 'ZVCGI7JK',\n",
      " 'ConsensusCitation - 31 Jul 2025': 'KMSLSSL7',\n",
      " 'EEG': 'IK26UWYI',\n",
      " 'EEG_For_Meditation': '752GWEEQ',\n",
      " 'FundamentalBooks': 'I6MYWKWQ',\n",
      " 'How are neuroplasticity, learning and recovery modeleld in state of the art brain models like Neural Mass Models - 13 Jul 2025': '88AFQG3V',\n",
      " 'How can mechanistic synaptic plasticity rules be computationally scaled and integrated into neural mass models to create biologically realistic, adaptive brain network simulations that capture learning, recovery, and pathological dynamics - 13 Jul 25': 'CL6BNXEM',\n",
      " 'IIT': 'PBCQNZV2',\n",
      " 'MasterThesis': 'VEG5XGN8',\n",
      " 'Mystical Entropy': 'PH7L637T',\n",
      " 'Neuroplasticity+NMM-review': 'QPEWATYL',\n",
      " 'NotionSync': 'B6GWT9RN',\n",
      " 'PCI-From-Resting-State-Reconstruction': '574RX5AA',\n",
      " 'Phd': '24HXFNLC',\n",
      " 'RELAX': 'GRBTCVDD',\n",
      " 'SSPR': '6CD5BFC3',\n",
      " 'SourcesFromConsenusRevisioned': '7C5FHTKW',\n",
      " 'ThesisAiReview': 'JPLJZY3K',\n",
      " 'additionalLiteratureFromMyMasters': 'VNZEV52X',\n",
      " 'avalanche': 'W6SQ9SHI',\n",
      " 'chaos': 'UMZAWQXK',\n",
      " 'combined': 'BG426P7D',\n",
      " 'connectivity/coupling': 'TEJ9HX7K',\n",
      " 'consciousness': '9K7XL6ZV',\n",
      " 'costorm': 'NWSNYW9Y',\n",
      " 'criticality/phase_transition': 'NMRQ5QU3',\n",
      " 'eeg-processing': 'G3VDTCDA',\n",
      " 'eegProcessing': 'IFBBW8HR',\n",
      " 'entropy/complexity': 'ARB9GMLC',\n",
      " 'entropyAndComplexity': 'MM8C9AJE',\n",
      " 'ident of dynamics': 'VJSUNZGG',\n",
      " 'missingPDF': '5C6SCHNY',\n",
      " 'neurology': 'RHIJGXRK',\n",
      " 'objectDetection_marioKart': 'APBXPTLC',\n",
      " 'other': 'QDFJVKRJ',\n",
      " 'otherToRead': 'JJXBZAPG',\n",
      " 'phd_project_sources': 'JC6BRLKB',\n",
      " 'prejaasOriginalSources': 'JK683IHA',\n",
      " 'private': 'AIVQ4ZVK',\n",
      " 'projectOutputs': '9VE6UNXA',\n",
      " 'psychedelics': 'K7QSQYKD',\n",
      " 'review_rebooting_consciousness': 'VAIVV8EY',\n",
      " 'scico-test': 'ABZYKJ5Q',\n",
      " 'simulation & parameter estimation': 'SCLBP7K8',\n",
      " 'thesisAiSummary': 'VHFEF262',\n",
      " 'thesisAiSummary1': '8P4IQWQH',\n",
      " 'zotero_rag_test': '46RLNJMW'}\n"
     ]
    }
   ],
   "execution_count": 18
  },
  {
   "metadata": {
    "ExecuteTime": {
     "end_time": "2025-10-31T21:57:40.029048Z",
     "start_time": "2025-10-31T21:57:39.363912Z"
    }
   },
   "cell_type": "code",
   "source": [
    "COLLECTION_ID = collection_dict.get('EEG')\n",
    "item_dict = {}\n",
    "only_parent_items = True\n",
    "for item in zot.collection_items(COLLECTION_ID):\n",
    "    if not (item_data := item.get('data', None)):\n",
    "       continue\n",
    "    if only_parent_items and len(item_data.get('parentItem', '')) == 0:\n",
    "        item_id = item.get('key')\n",
    "        item_name = item.get('data', {}).get('title')\n",
    "        item_dict[item_name] = item_id\n",
    "pprint(item_dict)"
   ],
   "id": "a8db2d805dfa1837",
   "outputs": [
    {
     "name": "stdout",
     "output_type": "stream",
     "text": [
      "{'A Tutorial on Independent Component Analysis': 'IJPXFJC5',\n",
      " 'A Tutorial on Principal Component Analysis': 'KPR5XSGI',\n",
      " 'DISCOVER-EEG: an open, fully automated EEG pipeline for biomarker discovery in clinical neuroscience': '9LJB6XJV',\n",
      " 'EEG is better left alone': 'SUMVYN4I',\n",
      " 'Everything you wanted to ask about EEG but were afraid to get the right answer': 'JRGNMUEC',\n",
      " 'Extremely simple nonlinear noise-reduction method': 'AQNFL6KM',\n",
      " 'Is the EEG really \"chaotic\" in hypsarrhythmia?': '2MT58YPB',\n",
      " 'Meanfield modeling of propofol-induced changes in spontaneous EEG rhythms': 'J2W4I6CD',\n",
      " 'NeuroKit2: A Python toolbox for neurophysiological signal processing': 'WCGJVE3E',\n",
      " 'Parameterizing neural power spectra into periodic and aperiodic components': 'H6MFL7PU',\n",
      " 'Permutation Entropy: Too Complex a Measure for EEG Time Series?': 'C3HBCGUI',\n",
      " 'Removing electroencephalographic artifacts by blind source separation': 'AWMYJE77',\n",
      " 'SCCN: Independent Component Labeling': '5UMTLU6X'}\n"
     ]
    }
   ],
   "execution_count": 19
  },
  {
   "metadata": {
    "ExecuteTime": {
     "end_time": "2025-10-31T22:00:11.303288Z",
     "start_time": "2025-10-31T22:00:11.300104Z"
    }
   },
   "cell_type": "code",
   "source": "list(item_dict.keys())",
   "id": "ea66e57a39ea00f5",
   "outputs": [
    {
     "data": {
      "text/plain": [
       "['Permutation Entropy: Too Complex a Measure for EEG Time Series?',\n",
       " 'EEG is better left alone',\n",
       " 'Parameterizing neural power spectra into periodic and aperiodic components',\n",
       " 'DISCOVER-EEG: an open, fully automated EEG pipeline for biomarker discovery in clinical neuroscience',\n",
       " 'Meanfield modeling of propofol-induced changes in spontaneous EEG rhythms',\n",
       " 'Removing electroencephalographic artifacts by blind source separation',\n",
       " 'Everything you wanted to ask about EEG but were afraid to get the right answer',\n",
       " 'NeuroKit2: A Python toolbox for neurophysiological signal processing',\n",
       " 'A Tutorial on Independent Component Analysis',\n",
       " 'A Tutorial on Principal Component Analysis',\n",
       " 'Extremely simple nonlinear noise-reduction method',\n",
       " 'Is the EEG really \"chaotic\" in hypsarrhythmia?',\n",
       " 'SCCN: Independent Component Labeling']"
      ]
     },
     "execution_count": 24,
     "metadata": {},
     "output_type": "execute_result"
    }
   ],
   "execution_count": 24
  },
  {
   "metadata": {
    "ExecuteTime": {
     "end_time": "2025-10-31T22:25:33.069586Z",
     "start_time": "2025-10-31T22:25:32.522451Z"
    }
   },
   "cell_type": "code",
   "source": [
    "ITEM_ID = item_dict.get(list(item_dict.keys())[0])\n",
    "item = zot.item(ITEM_ID)\n",
    "pprint(item)"
   ],
   "id": "c1707d5d13c00b6",
   "outputs": [
    {
     "name": "stdout",
     "output_type": "stream",
     "text": [
      "{'data': {'DOI': '10.3390/e19120692',\n",
      "          'ISSN': '1099-4300',\n",
      "          'abstractNote': 'Permutation entropy (PeEn) is a complexity measure '\n",
      "                          'that originated from dynamical systems theory. '\n",
      "                          'Specifically engineered to be robustly applicable '\n",
      "                          'to real-world data, the quantity has since been '\n",
      "                          'utilised for a multitude of time series analysis '\n",
      "                          'tasks. In electroencephalogram (EEG) analysis, '\n",
      "                          'value changes of PeEn correlate with clinical '\n",
      "                          'observations, among them the onset of epileptic '\n",
      "                          'seizures or the loss of consciousness induced by '\n",
      "                          'anaesthetic agents. Regarding this field of '\n",
      "                          'application, the present work suggests a relation '\n",
      "                          'between PeEn-based complexity estimation and '\n",
      "                          'spectral methods of EEG analysis: for ordinal '\n",
      "                          'patterns of three consecutive samples, the PeEn of '\n",
      "                          'an epoch of EEG appears to approximate the centroid '\n",
      "                          'of its weighted power spectrum. To substantiate '\n",
      "                          'this proposition, a systematic approach based on '\n",
      "                          'redundancy reduction is introduced and applied to '\n",
      "                          'sleep and epileptic seizure EEG. The interrelation '\n",
      "                          'demonstrated may aid the interpretation of PeEn in '\n",
      "                          'EEG, and may increase its comparability with other '\n",
      "                          'techniques of EEG analysis.',\n",
      "          'accessDate': '2024-04-15T06:22:46Z',\n",
      "          'archive': '',\n",
      "          'archiveLocation': '',\n",
      "          'callNumber': '',\n",
      "          'collections': ['IK26UWYI',\n",
      "                          'ARB9GMLC',\n",
      "                          'WPXG7R5M',\n",
      "                          'VNZEV52X',\n",
      "                          'JPLJZY3K',\n",
      "                          '7C5FHTKW'],\n",
      "          'creators': [{'creatorType': 'author',\n",
      "                        'firstName': 'Sebastian',\n",
      "                        'lastName': 'Berger'},\n",
      "                       {'creatorType': 'author',\n",
      "                        'firstName': 'Gerhard',\n",
      "                        'lastName': 'Schneider'},\n",
      "                       {'creatorType': 'author',\n",
      "                        'firstName': 'Eberhard F.',\n",
      "                        'lastName': 'Kochs'},\n",
      "                       {'creatorType': 'author',\n",
      "                        'firstName': 'Denis',\n",
      "                        'lastName': 'Jordan'}],\n",
      "          'date': '2017/12',\n",
      "          'dateAdded': '2024-04-15T06:22:46Z',\n",
      "          'dateModified': '2025-08-15T11:29:08Z',\n",
      "          'extra': 'Number: 12\\n'\n",
      "                   'Publisher: Multidisciplinary Digital Publishing Institute\\n'\n",
      "                   'Citation Key: bergerPermutationEntropyToo2017',\n",
      "          'issue': '12',\n",
      "          'itemType': 'journalArticle',\n",
      "          'journalAbbreviation': '',\n",
      "          'key': 'C3HBCGUI',\n",
      "          'language': 'en',\n",
      "          'libraryCatalog': 'www.mdpi.com',\n",
      "          'pages': '692',\n",
      "          'publicationTitle': 'Entropy',\n",
      "          'relations': {'dc:replaces': 'http://zotero.org/users/12321588/items/9W5XB5HS',\n",
      "                        'owl:sameAs': 'http://zotero.org/groups/6091491/items/LCBBCG7M'},\n",
      "          'rights': 'http://creativecommons.org/licenses/by/3.0/',\n",
      "          'series': '',\n",
      "          'seriesText': '',\n",
      "          'seriesTitle': '',\n",
      "          'shortTitle': 'Permutation Entropy',\n",
      "          'tags': [{'tag': 'electroencephalography', 'type': 1},\n",
      "                   {'tag': 'not read'},\n",
      "                   {'tag': 'ordinal pattern analysis', 'type': 1},\n",
      "                   {'tag': 'permutation entropy', 'type': 1}],\n",
      "          'title': 'Permutation Entropy: Too Complex a Measure for EEG Time '\n",
      "                   'Series?',\n",
      "          'url': 'https://www.mdpi.com/1099-4300/19/12/692',\n",
      "          'version': 11205,\n",
      "          'volume': '19'},\n",
      " 'key': 'C3HBCGUI',\n",
      " 'library': {'id': 12321588,\n",
      "             'links': {'alternate': {'href': 'https://www.zotero.org/soenkevl',\n",
      "                                     'type': 'text/html'}},\n",
      "             'name': 'Soenke van Loh',\n",
      "             'type': 'user'},\n",
      " 'links': {'alternate': {'href': 'https://www.zotero.org/soenkevl/items/C3HBCGUI',\n",
      "                         'type': 'text/html'},\n",
      "           'attachment': {'attachmentSize': 1396576,\n",
      "                          'attachmentType': 'application/pdf',\n",
      "                          'href': 'https://api.zotero.org/users/12321588/items/NIJZGAEK',\n",
      "                          'type': 'application/json'},\n",
      "           'self': {'href': 'https://api.zotero.org/users/12321588/items/C3HBCGUI',\n",
      "                    'type': 'application/json'}},\n",
      " 'meta': {'creatorSummary': 'Berger et al.',\n",
      "          'numChildren': 1,\n",
      "          'parsedDate': '2017-12'},\n",
      " 'version': 11205}\n"
     ]
    }
   ],
   "execution_count": 31
  },
  {
   "metadata": {
    "ExecuteTime": {
     "end_time": "2025-10-31T22:44:22.316055Z",
     "start_time": "2025-10-31T22:44:22.310598Z"
    }
   },
   "cell_type": "code",
   "source": [
    "def parse_creators(creators):\n",
    "    authors = ''\n",
    "    for author in creators:\n",
    "        authors += f'{author.get(\"lastName\")}, {author.get(\"firstName\")}; '\n",
    "    return authors.strip()\n",
    "\n",
    "def parse_tags(tags):\n",
    "    tag_string = ''\n",
    "    for tag in tags:\n",
    "        tag_string += f'{tag.get(\"name\")}; '\n",
    "    return tag_string.strip()\n",
    "\n",
    "def parse_extra_to_citation_key(extra):\n",
    "    citation_key = ''\n",
    "    for line in extra.split('\\n'):\n",
    "        if line.startswith('Citation Key: '):\n",
    "            citation_key = line.split('Citation Key: ')[1].strip()\n",
    "            return citation_key\n",
    "    return citation_key\n",
    "\n",
    "\n",
    "def pdf_path_from_local_pdf_id(local_id: str) -> str:\n",
    "    storage_path = os.path.join(os.getenv('LOCAL_ZOTERO_PATH'), 'storage', local_id)\n",
    "    if not (files := os.listdir(storage_path)):\n",
    "        return ''\n",
    "    for file in files:\n",
    "        if file.endswith('.pdf'):\n",
    "            pdf_path = os.path.join(storage_path, file)\n",
    "            return pdf_path\n",
    "    return ''\n",
    "\n",
    "def parse_links(links):\n",
    "    attachment = links.get('attachment', {})\n",
    "    if not attachment.get('attachmentType') == 'application/pdf':\n",
    "        return ''\n",
    "    href = attachment.get('href', '')\n",
    "    local_id = href.split(os.sep)[-1]\n",
    "    return pdf_path_from_local_pdf_id(local_id)\n",
    "\n",
    "def parse_item(item:dict) -> dict:\n",
    "    mdata = item.get('data')\n",
    "    parsed_dict = {\n",
    "        'title': mdata.get('title'),\n",
    "        'authors': parse_creators(mdata.get('creators', [])),\n",
    "        'abstract': mdata.get('abstractNote'),\n",
    "        'TAGS': parse_tags(mdata.get('TAGS', [])),\n",
    "        'citation_key': parse_extra_to_citation_key(mdata.get('extra')),\n",
    "        'doi': mdata.get('DOI'),\n",
    "        'date': mdata.get('date'),\n",
    "        'attachments': parse_links(item.get('links', {})),\n",
    "    }\n",
    "    return parsed_dict\n",
    "\n",
    "pprint(parse_item(item))"
   ],
   "id": "23e1de49a122ccdb",
   "outputs": [
    {
     "name": "stdout",
     "output_type": "stream",
     "text": [
      "{'TAGS': '',\n",
      " 'abstract': 'Permutation entropy (PeEn) is a complexity measure that '\n",
      "             'originated from dynamical systems theory. Specifically '\n",
      "             'engineered to be robustly applicable to real-world data, the '\n",
      "             'quantity has since been utilised for a multitude of time series '\n",
      "             'analysis tasks. In electroencephalogram (EEG) analysis, value '\n",
      "             'changes of PeEn correlate with clinical observations, among them '\n",
      "             'the onset of epileptic seizures or the loss of consciousness '\n",
      "             'induced by anaesthetic agents. Regarding this field of '\n",
      "             'application, the present work suggests a relation between '\n",
      "             'PeEn-based complexity estimation and spectral methods of EEG '\n",
      "             'analysis: for ordinal patterns of three consecutive samples, the '\n",
      "             'PeEn of an epoch of EEG appears to approximate the centroid of '\n",
      "             'its weighted power spectrum. To substantiate this proposition, a '\n",
      "             'systematic approach based on redundancy reduction is introduced '\n",
      "             'and applied to sleep and epileptic seizure EEG. The '\n",
      "             'interrelation demonstrated may aid the interpretation of PeEn in '\n",
      "             'EEG, and may increase its comparability with other techniques of '\n",
      "             'EEG analysis.',\n",
      " 'attachments': '/home/soenke/Zotero/storage/NIJZGAEK/Berger et al. - 2017 - '\n",
      "                'Permutation Entropy Too Complex a Measure for EEG.pdf',\n",
      " 'authors': 'Berger, Sebastian; Schneider, Gerhard; Kochs, Eberhard F.; '\n",
      "            'Jordan, Denis;',\n",
      " 'citation_key': 'bergerPermutationEntropyToo2017',\n",
      " 'date': '2017/12',\n",
      " 'doi': '10.3390/e19120692',\n",
      " 'title': 'Permutation Entropy: Too Complex a Measure for EEG Time Series?'}\n"
     ]
    }
   ],
   "execution_count": 44
  },
  {
   "metadata": {
    "ExecuteTime": {
     "end_time": "2025-10-31T22:36:03.367773Z",
     "start_time": "2025-10-31T22:36:03.365117Z"
    }
   },
   "cell_type": "code",
   "source": [
    "def local_pdf_id_from_item_id(item_id: str) -> str:\n",
    "    item = zot.item(item_id)\n",
    "    links = item.get('links', {})\n",
    "    attachment = links.get('attachment', {})\n",
    "    if not attachment.get('attachmentType') == 'application/pdf':\n",
    "        return ''\n",
    "    href = attachment.get('href', '')\n",
    "    local_id = href.split(os.sep)[-1]\n",
    "    return local_id\n",
    "\n",
    "\n",
    "def local_pdf_path_from_item_id(item_id: str) -> (str, str):\n",
    "    \"\"\"Find the local pdf based on the item_id\"\"\"\n",
    "    local_id = local_pdf_id_from_item_id(item_id)\n",
    "    return pdf_path_from_local_pdf_id(local_id)\n"
   ],
   "id": "4edc3c3987cefdc8",
   "outputs": [],
   "execution_count": 38
  },
  {
   "metadata": {
    "ExecuteTime": {
     "end_time": "2025-10-31T22:36:05.073536Z",
     "start_time": "2025-10-31T22:36:04.321383Z"
    }
   },
   "cell_type": "code",
   "source": "local_pdf_path_from_item_id(ITEM_ID)",
   "id": "14f6790a5a542dcf",
   "outputs": [
    {
     "data": {
      "text/plain": [
       "'/home/soenke/Zotero/storage/NIJZGAEK/Berger et al. - 2017 - Permutation Entropy Too Complex a Measure for EEG.pdf'"
      ]
     },
     "execution_count": 39,
     "metadata": {},
     "output_type": "execute_result"
    }
   ],
   "execution_count": 39
  },
  {
   "metadata": {},
   "cell_type": "code",
   "outputs": [],
   "execution_count": null,
   "source": "",
   "id": "d015985218828014"
  }
 ],
 "metadata": {
  "kernelspec": {
   "display_name": "Python 3",
   "language": "python",
   "name": "python3"
  },
  "language_info": {
   "codemirror_mode": {
    "name": "ipython",
    "version": 2
   },
   "file_extension": ".py",
   "mimetype": "text/x-python",
   "name": "python",
   "nbconvert_exporter": "python",
   "pygments_lexer": "ipython2",
   "version": "2.7.6"
  }
 },
 "nbformat": 4,
 "nbformat_minor": 5
}
