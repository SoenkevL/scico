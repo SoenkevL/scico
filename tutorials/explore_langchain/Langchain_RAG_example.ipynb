{
 "cells": [
  {
   "metadata": {},
   "cell_type": "markdown",
   "source": [
    "# Notebook to show how we intake information into a vector db and can the query it\n",
    "- Load the pdf and transform it to a markdown document\n",
    "- chunk the markdown document in langchain Documents\n",
    "- load the chunks into a vector db\n",
    "- query the vector db"
   ],
   "id": "929ef32a2637caa6"
  },
  {
   "metadata": {},
   "cell_type": "markdown",
   "source": "## Load the Pdf to Markdown",
   "id": "3b79624f2e02aef0"
  },
  {
   "cell_type": "code",
   "id": "initial_id",
   "metadata": {
    "collapsed": true,
    "ExecuteTime": {
     "end_time": "2025-10-21T07:34:11.168601Z",
     "start_time": "2025-10-21T07:34:05.309053Z"
    }
   },
   "source": "",
   "outputs": [
    {
     "name": "stderr",
     "output_type": "stream",
     "text": [
      "/home/soenke/PycharmProjects/scico/.venv/lib/python3.13/site-packages/tqdm/auto.py:21: TqdmWarning: IProgress not found. Please update jupyter and ipywidgets. See https://ipywidgets.readthedocs.io/en/stable/user_install.html\n",
      "  from .autonotebook import tqdm as notebook_tqdm\n"
     ]
    }
   ],
   "execution_count": 1
  },
  {
   "metadata": {
    "ExecuteTime": {
     "end_time": "2025-10-21T07:34:11.179058Z",
     "start_time": "2025-10-21T07:34:11.176446Z"
    }
   },
   "cell_type": "code",
   "source": "PDF_PATH = 'Wegner et al. - 2023 - Complexity measures for EEG microstate sequences - concepts and algorithms.pdf'",
   "id": "cef291bb4f078f64",
   "outputs": [],
   "execution_count": 2
  },
  {
   "metadata": {
    "ExecuteTime": {
     "end_time": "2025-10-21T07:34:11.224988Z",
     "start_time": "2025-10-21T07:34:11.223179Z"
    }
   },
   "cell_type": "code",
   "source": [
    "# test the unstructured loader from langchain\n",
    "# problem: needs additional dependencies on system level\n",
    "# loader_local = UnstructuredLoader(\n",
    "#     file_path=PDF_PATH,\n",
    "#     strategy=\"hi_res\",\n",
    "# )\n",
    "# docs_local = []\n",
    "# for doc in loader_local.lazy_load():\n",
    "#     docs_local.append(doc)"
   ],
   "id": "f29e4c556079cbb0",
   "outputs": [],
   "execution_count": 3
  },
  {
   "metadata": {
    "ExecuteTime": {
     "end_time": "2025-10-21T07:34:11.271755Z",
     "start_time": "2025-10-21T07:34:11.270068Z"
    }
   },
   "cell_type": "code",
   "source": [
    "# my custom loader that first transforms the pdf to markdown\n",
    "# convert_pdf_to_markdown(PDF_PATH)"
   ],
   "id": "6c7eff32e1126a2d",
   "outputs": [],
   "execution_count": 4
  },
  {
   "metadata": {},
   "cell_type": "markdown",
   "source": "## Convert the Markdown to chunks",
   "id": "101592bf485d99"
  },
  {
   "metadata": {
    "ExecuteTime": {
     "end_time": "2025-10-21T07:34:11.320821Z",
     "start_time": "2025-10-21T07:34:11.318569Z"
    }
   },
   "cell_type": "code",
   "source": [
    "MD_PATH = PDF_PATH.split('.pdf')[0]\n",
    "MD_PATH = f'{MD_PATH}/{MD_PATH}.md'"
   ],
   "id": "22e5d7b9c0f3c758",
   "outputs": [],
   "execution_count": 5
  },
  {
   "metadata": {
    "ExecuteTime": {
     "end_time": "2025-10-21T07:34:11.369020Z",
     "start_time": "2025-10-21T07:34:11.366812Z"
    }
   },
   "cell_type": "code",
   "source": [
    "with open(MD_PATH, 'r') as md:\n",
    "    f = md.read()"
   ],
   "id": "dd8719dffd2f8354",
   "outputs": [],
   "execution_count": 6
  },
  {
   "metadata": {
    "ExecuteTime": {
     "end_time": "2025-10-21T07:34:14.878604Z",
     "start_time": "2025-10-21T07:34:11.413356Z"
    }
   },
   "cell_type": "code",
   "source": [
    "from src.Tools.TextSplitter import MarkdownChunker\n",
    "chunker = MarkdownChunker(md_path=MD_PATH, chunk_size=1000)\n",
    "chunks = chunker.chunk(method='markdown+semantic')"
   ],
   "id": "8e4df4fe6a388a28",
   "outputs": [],
   "execution_count": 7
  },
  {
   "metadata": {},
   "cell_type": "markdown",
   "source": "## Index the Chunks into a vector db",
   "id": "6841ee1673040997"
  },
  {
   "metadata": {
    "ExecuteTime": {
     "end_time": "2025-10-21T07:34:15.408960Z",
     "start_time": "2025-10-21T07:34:14.928593Z"
    }
   },
   "cell_type": "code",
   "source": [
    "from langchain_chroma.vectorstores import Chroma\n",
    "from langchain_ollama.embeddings import OllamaEmbeddings"
   ],
   "id": "597d94085a41fd71",
   "outputs": [],
   "execution_count": 8
  },
  {
   "metadata": {
    "ExecuteTime": {
     "end_time": "2025-10-21T07:34:15.428020Z",
     "start_time": "2025-10-21T07:34:15.414510Z"
    }
   },
   "cell_type": "code",
   "source": "embeddings = OllamaEmbeddings(model='nomic-embed-text')",
   "id": "99c105f15b9ba0ae",
   "outputs": [],
   "execution_count": 9
  },
  {
   "metadata": {
    "ExecuteTime": {
     "end_time": "2025-10-21T07:34:15.570664Z",
     "start_time": "2025-10-21T07:34:15.461416Z"
    }
   },
   "cell_type": "code",
   "source": [
    "vector_store = Chroma(\n",
    "    collection_name='test_collection',\n",
    "    embedding_function=embeddings,\n",
    "    persist_directory='./test.db'\n",
    ")"
   ],
   "id": "b1b8cbeb1cbc8d29",
   "outputs": [],
   "execution_count": 10
  },
  {
   "metadata": {
    "ExecuteTime": {
     "end_time": "2025-10-21T07:34:16.609645Z",
     "start_time": "2025-10-21T07:34:15.578398Z"
    }
   },
   "cell_type": "code",
   "source": "vector_store.add_documents(chunks)",
   "id": "aca1025809d4bebc",
   "outputs": [
    {
     "data": {
      "text/plain": [
       "['63c531c1-bbd6-467f-b1d3-aba13e2aa6b5',\n",
       " '5dac0131-f5c0-4b7d-857c-14be158336e8',\n",
       " 'bd754f4e-3758-4d73-8608-30b00573c694',\n",
       " 'c719f1cf-baac-4bc5-9985-3a68753727f5',\n",
       " 'ccf08d24-2ffc-4f2f-a3b0-f278f8d8d483',\n",
       " '00decf9c-f595-436c-983c-b6d130483af2',\n",
       " '49ad7ad0-7537-4607-b15a-c478666e9530',\n",
       " 'ccd967ab-875e-4211-96dd-9e0a7c638bb5',\n",
       " '1e691248-aacc-4e9c-8a15-befe31fdffd0',\n",
       " '45644d57-34be-461b-ae0b-e5c3ae1e8fa4',\n",
       " '522ecf7d-1c81-400b-ab6a-91fd943f054f',\n",
       " 'aa006f71-e1b4-493f-968e-1f20c78d6f15',\n",
       " 'd7d1676e-336f-4fa1-a738-5c8ab3090e0e',\n",
       " 'f1bef897-f72b-465c-941e-10c97dda449a',\n",
       " 'ac70682f-6464-4baa-9bb3-a56530464c3a',\n",
       " 'ca206865-33f2-4849-86ff-7c3770529eff',\n",
       " '73f90f89-601c-419d-b99d-a71754ee375e',\n",
       " '023b504a-07d5-4614-aa38-195a908c6857',\n",
       " '582b9c04-7b79-4319-98be-2bdeb117cd68',\n",
       " 'cb6ba6b2-4e06-494e-a8ac-434a5bc9735e',\n",
       " '5aeb7612-57f8-4ea9-b000-50266665d0c0',\n",
       " 'd2772e0d-f031-4591-aebe-33136152902b',\n",
       " 'f16473fe-0b4b-4864-bff5-ec4aac379e7d',\n",
       " 'c58e979d-2a2c-444a-bb79-29b3a3692db2',\n",
       " '4dcc204d-a84f-43b6-8689-9cdb1055bdd5',\n",
       " 'd8135a6f-af44-4b18-b522-8928143b4328',\n",
       " '270af0cd-59fb-4a96-a72c-7623aceeb446',\n",
       " 'b96237e8-20f6-4cba-9125-87678364ddaf',\n",
       " '80e82c9c-a619-4c66-9af3-9cbb6b9c229d',\n",
       " 'b7442bb2-e5c6-4766-a5cc-189729822013',\n",
       " '85078506-b158-421c-8353-5f7fc4fc3f81',\n",
       " '1654ea1b-907c-4ae1-ab41-d6e7b4eb5c5c',\n",
       " '6e0da656-61df-4db5-aa09-9cf43aa083a7',\n",
       " 'e707455c-4a63-475b-8f50-9d000774e928',\n",
       " 'c8e2a78f-c898-45fe-a5f8-9c0b7d453920',\n",
       " '121f712d-97b8-498a-af78-df6cf149200f',\n",
       " '8eedb737-d5bb-492d-aea6-24a9dc799b18',\n",
       " '5a9a0d12-8ba7-40c1-9014-95db2ea67d18',\n",
       " '686519ee-79b9-40b1-95b3-e2738fe5406d',\n",
       " '6064933e-5115-467d-91cf-efe1a513192b',\n",
       " 'bdc8968d-e489-43af-b2d7-f65b2154e4ec',\n",
       " '27e0e461-ba14-42f5-b738-6c36e787906e',\n",
       " '14401e03-3578-48d3-be60-90b53f52bfe6',\n",
       " 'aeebb44c-8256-437d-b59d-e550a19488cf',\n",
       " 'c2bd5113-9f5f-4cbe-b55f-0551fd4d61d8',\n",
       " '9ad4ab18-5fa9-423b-82fa-efa965f2cbb9',\n",
       " '4bd1b014-719b-4f74-9018-814a74453b26',\n",
       " 'aa7f84fc-2882-47b6-be93-c4b2e28d039d',\n",
       " '584d6ef7-344e-4d62-b1e0-c330dddab0de',\n",
       " 'db9cb70c-fc66-49a9-9325-d6b8354e0ab2',\n",
       " '28834756-2b3b-4b40-afe7-f3b947801921',\n",
       " 'b8633324-6e50-42f4-b67d-3e135e0269bc',\n",
       " '19804551-5024-4b96-90f8-2730cefde829',\n",
       " '0f24d567-3406-46e5-a0ad-f61c29f9834e',\n",
       " '23ab9f31-1cd5-47b5-82d3-37c0b975f565',\n",
       " 'f6c2f944-6188-469d-b199-1e33263dfc21',\n",
       " '4487af2e-2beb-4539-bfc6-3a1be0e34b05',\n",
       " '9eee41c1-66de-4d3f-a4d0-b8f8a177438c',\n",
       " 'b7491849-f78d-4af6-a897-ddc25fc8ef72',\n",
       " '0360e99f-11a2-40b6-9a82-899c60f7c23d',\n",
       " 'a0481ecf-8822-4f77-93c7-f79e2178319d',\n",
       " '70096c32-e0a9-4189-b614-54cd26f8529b',\n",
       " 'ae8ca0f0-2235-4078-9ccf-1fadef557b52',\n",
       " '5d145725-d453-4c9f-a584-5ab63d482242',\n",
       " 'edafb89d-9632-4d20-b4cf-4582ac15c7af',\n",
       " '3098b071-0d29-4127-93e0-37513969baeb',\n",
       " '29639e42-db2c-4698-b782-aea5be3735ec',\n",
       " '6dabcc52-8b10-4998-852b-f1b34b68744c',\n",
       " '6f780f8e-f817-4b1c-b189-02a6999cf4a9',\n",
       " 'ceffcb36-042e-48aa-9d4b-432ce5c0e61e',\n",
       " '8b1ddd28-62f5-4ccb-8639-f8c37ece980d',\n",
       " '6e6e79f6-bc6e-47ae-95f5-208d08f7bd39',\n",
       " '120b8d68-d0e1-47ed-8d97-27086b83b9db',\n",
       " '019092f3-1f32-4eb6-93d8-0150855d084f',\n",
       " '3721556e-20f9-4880-95c6-b6abb1962204',\n",
       " 'a654d4c5-acd3-438b-9de5-09c755db81ff',\n",
       " '33d62fb8-227b-4a4b-b279-1da3f11e09e4',\n",
       " 'ca828854-536e-4581-931d-d9f66cfbfe28',\n",
       " 'c17f5b92-f718-428c-bf0f-eecfe8ab53a0',\n",
       " '57c08ed3-ddc3-4a3c-920e-6c55beaf3311',\n",
       " '5f51844b-570a-4e5d-b49f-b6c6621d524f',\n",
       " 'e0d3c2eb-f247-4fcf-979a-5221fd4ebbfb',\n",
       " 'f3917199-b8f0-4c50-a34b-2f2dd7f71fe1',\n",
       " '05474d6c-d04a-42b1-bf1d-6574ee29815d',\n",
       " '634e638d-8191-47d2-adc1-5f940c9a0ea1',\n",
       " '87f2a693-791a-4bd5-b669-1715e89f7bbf',\n",
       " 'bf0442e0-5fc6-4dc5-bf7a-0d576dc406be',\n",
       " 'bfd4d9bb-03ea-4270-8e3f-85571d33ecca',\n",
       " '6dbdcfe7-73c3-4d38-8578-1707358c534e',\n",
       " '9321dfd5-be58-4961-8b7d-7ece121640f4',\n",
       " '22291410-eda1-46c7-a479-bbc61358b088',\n",
       " 'e172c2ee-5d8b-4e8a-b7dc-0dd71052e324',\n",
       " '51e6eee9-384f-4daa-8e5b-f5f4c154a256',\n",
       " '1c0070ca-7d09-4de8-b3ad-55ecf8701fa5',\n",
       " 'b0105240-8a91-4db8-8ade-c32c0d444850',\n",
       " '893bb26c-8fd6-4a87-97d9-6adafe056679',\n",
       " 'ba4d4d78-a541-41e9-8b2c-93cfb1d6197c',\n",
       " 'eb5e4f95-c7f1-43fe-88f7-37b12645fc09',\n",
       " 'd2cfcfed-5285-4cc7-9177-877646644268',\n",
       " '9195ff04-1f6a-4c03-a210-cf67a8996f79',\n",
       " '675cfbc3-d7c7-4e41-aa24-b54513fc04fe',\n",
       " '488a3388-2ade-45b6-a827-a32a8ef68289',\n",
       " '0093f291-6d1f-405e-97eb-cf13a20b5a4c',\n",
       " '71ae1993-9fc2-4461-b623-f833522215a5',\n",
       " 'd8163201-22f5-4cf8-9137-4310f7e08a76',\n",
       " 'e92804e0-6db2-4728-937a-13f9888c9920',\n",
       " '63ef1312-87b5-4217-9818-628ebc603c60',\n",
       " 'bd7fa579-2902-4943-962c-df3c46a73ee9',\n",
       " '2b853d4d-9f7e-494f-b0a6-b5f208ce7e64',\n",
       " '9fcae07a-058f-4fa3-bbfa-5a5ac65e4cdd',\n",
       " 'e9e23c89-f9db-415f-8ce1-7ec4dd223506',\n",
       " 'bc417d1a-6098-4c41-863f-a56f169b602b',\n",
       " 'b540b65f-1512-49bd-b5a7-644533b5d58c',\n",
       " 'c1e62dcd-7f88-4ec1-a3e0-c5e6454835e7',\n",
       " 'c7f69d18-4e95-4fc0-b06f-56815ec636f9',\n",
       " '8bc525e8-a326-45f4-90c5-52ac291f1ed5',\n",
       " '1b1a3766-187b-414e-97da-e5c900ae9d8b',\n",
       " 'e4f488a3-7abc-4da1-93b2-2d9c0c0b3415',\n",
       " 'd929739f-3f5b-417f-95a9-7c64c85e4faf',\n",
       " 'd817c8dd-fb39-41d5-9892-6fea825a9609',\n",
       " '08b7f0ee-fa70-42c9-bd50-f58a3afb4f0b',\n",
       " '8effad59-838a-4fee-9ac8-478585061bd8',\n",
       " '90d221aa-3bb2-47ab-ad20-1890d0eb4e54',\n",
       " '4e24c422-3f7f-4f7b-8588-862c80a8bb40',\n",
       " '6d69dfa6-753e-4a44-b249-aa878213dfd0',\n",
       " 'fa85ebc9-d41b-4aba-8b1e-75c74c6b9bd0',\n",
       " '8a4ddce8-aefb-4da2-b7e9-edcc32967cbe',\n",
       " '0f81bc8a-9a56-484f-8f3c-d78b338860b3',\n",
       " 'bb2170af-0436-4018-9651-952e92b99959',\n",
       " '2380b933-5ebb-4630-9280-d84a5a8ed93c',\n",
       " '4c41c418-9763-487c-9f64-b800fb8707f2',\n",
       " '33f89216-e3c1-442c-b111-25f4abb4b443',\n",
       " '05e9f2e0-3dfa-408b-be8e-e48531c7b0dc',\n",
       " '02bb2a95-6b44-4512-8f4b-89647007a97e',\n",
       " '25183b33-4029-4699-8372-2bba619b6d5b',\n",
       " 'af0ea300-e51b-44e4-a4b6-735de717bba6',\n",
       " 'c39b89fc-bc46-419f-9f48-e242740a5bcb',\n",
       " '03ef77c7-e924-44a2-8fc8-16436e8bbacc',\n",
       " '0df0409a-c0a6-42a9-95a1-44b773ff07dd',\n",
       " '6ae06eb6-2dfa-4eb9-8935-8727381d8f4b',\n",
       " '882612a8-a434-40f3-ba6e-ca607fc860fc',\n",
       " '3348523b-7457-4b8c-ad4f-d8a11c139285',\n",
       " '99137184-c727-4f29-8f4d-b479b99d31ed',\n",
       " 'fe078002-d93a-4ca6-afe9-9cf376196f54',\n",
       " 'b392c3b0-bbd9-48e8-9354-40399dd9920b',\n",
       " 'bad4a2bb-ec7d-44c6-9070-c5b51b4239e6',\n",
       " 'f2ec9360-44ce-4fd5-9eef-dbdb1526151c',\n",
       " 'c2b59bdf-2738-4826-b7de-bc0c7eb9901c',\n",
       " 'cf3138ce-b47e-4de0-819e-2eed9f15923f',\n",
       " '7651d9d7-1d04-474c-af25-9d0609397fd9',\n",
       " 'd24c360f-e633-4df4-8538-c59685cf19f2',\n",
       " 'cb1858c0-f204-45a2-8b48-15ffeab84406',\n",
       " 'e674d5d3-a905-42f0-9245-d28f4813b83b',\n",
       " '76818879-5e18-44ab-9ab9-82d00b6f017d',\n",
       " 'e676bf3e-12c1-41c9-ae59-d032dd07cc67',\n",
       " '6032f473-f4a8-4b9b-b91f-a552a30283ee',\n",
       " '407f2ed3-3708-4b95-be53-b345a5948267',\n",
       " 'edcaa203-c700-45ec-b339-5d99f72a9c43',\n",
       " 'c7908bc9-eb23-4e1c-b419-b82c974e1d27',\n",
       " '013fdffa-c671-4a9c-9090-7eaf6e5b6e70',\n",
       " '86239945-fe2b-4b2a-b878-ef8755b891a8',\n",
       " '3a1e2815-872b-4883-a6bd-71dafbbe1a72',\n",
       " '599cb195-5b58-4a75-872b-98268365b49f',\n",
       " '2a646a02-db7f-4741-acbd-02c6c5d045c0',\n",
       " '8dc1d156-d592-4daa-8c52-1c5588613ccc',\n",
       " 'da6dfe9f-2c42-4f93-b873-8be761a91f00',\n",
       " 'a1af5390-5c08-4808-b875-0d9e27a52de5',\n",
       " '61f10288-96f0-4056-8c04-1fca66365fb9',\n",
       " '441cba3d-6e9c-4c01-abfd-1c4ebb3af171',\n",
       " 'd5c92a73-6c25-40a7-a201-a35c5a898129',\n",
       " '89913741-9d78-4499-ba78-b9b94d4cd593',\n",
       " 'a80b4994-2fd8-497d-83b4-46cc5bb11bd4',\n",
       " 'fc7d6a84-7a92-4c93-bb5a-c611e5110dc5',\n",
       " '3fd5a144-b1a7-48da-ab6d-8e281cefb055',\n",
       " '17d0410a-adb4-4a9b-abb1-8d5502581467',\n",
       " '0e46b8ee-de29-42c7-b7e8-c3a9ab4324a2',\n",
       " 'a62afc44-54f9-4b6c-8795-3ef10f58d346',\n",
       " 'd911bd8d-9b19-48f5-a361-4f57c0402675',\n",
       " '3f637acb-85e4-408b-af2e-431a2ffd7e42',\n",
       " 'bfc3f896-688f-434f-80c1-26f4de3fc95a',\n",
       " 'a489ff8b-fa61-4ee9-9e62-8ae2d2c976ba',\n",
       " 'fc4283b8-77ed-4460-b9a6-6c02ef803dcb',\n",
       " '6a88dbca-ad97-4eab-847a-45decce20f37',\n",
       " 'effaf6c2-9456-43a1-aaab-9416f8341a8b',\n",
       " '71842880-80ae-4abf-99b5-adab23226c82',\n",
       " 'e6ce7aa8-6034-4d4e-90e9-a350bfe01dd9',\n",
       " 'ec26c89d-51f6-468a-9cfc-bfa3799d1ec6',\n",
       " '7abc3fd6-479d-4249-8441-26ae9c7d83f8',\n",
       " '4b275a93-52f9-4972-8dec-8be5309ac0d0',\n",
       " '0e123f4c-2268-482d-9007-f6c0c78616fd',\n",
       " 'd2a9da67-0983-4663-be65-497e9c705b7c',\n",
       " '4f5ac2a3-3ce1-457c-ba9e-09eb368652ca',\n",
       " '7f765875-fc42-4350-aa77-2f16e58d151c',\n",
       " '437f1bc4-b25f-42ec-8c31-45d937276b22',\n",
       " '560fc2b7-35a6-44ea-bcc4-74d67144f81d',\n",
       " '1acd88c5-a8fa-406c-a8ba-01862f0fd939',\n",
       " '96b77462-8957-46ee-a19c-41bfb2aa07ad',\n",
       " '4fa5be45-ab59-4e74-b264-aaf413e25c03',\n",
       " '00b5ca52-c16e-4a96-b9ca-93fc73431ce6',\n",
       " '88113cce-246a-425c-8b11-256db6e64946',\n",
       " 'b99d303e-698c-4680-8ccb-a160faab7ca4',\n",
       " '9d2833d6-bcc3-4a54-bad7-08e49405b204',\n",
       " '4eb487cf-65af-46d9-9acd-accdf142a09b',\n",
       " 'e881c5b8-6247-41da-af38-e0c144c1fd49',\n",
       " '9b37020c-ae0c-4995-9034-daf606ee1f6d',\n",
       " 'bbafb506-c0e6-467b-9c86-b7c7cf865bca',\n",
       " '2f7e8c2a-b6f7-4d38-82d6-de291fee26ca',\n",
       " '6b11f046-e211-448b-af41-566b90b4e097',\n",
       " '362d839a-a327-49d0-8046-0a751712473c',\n",
       " '3a938a57-c690-44f3-9461-c4bfa5da1573',\n",
       " '77c7589d-c1d2-4bd4-abf1-34e47715468c',\n",
       " '6ab2ef0c-e0f1-4322-b7b1-113020bb79df',\n",
       " '98e438a5-a6b5-4319-bc61-c325c2064706',\n",
       " '1bb51745-8417-4b63-9498-83a6c69ca058',\n",
       " 'd322af7c-65a2-4657-8e15-3713d3f4049a',\n",
       " '8acc8a81-0bff-4a2a-9397-a556b6cbfbd6',\n",
       " '3e21f24c-212c-4d86-9932-6c5cb5730f2a',\n",
       " 'f9456166-1ec2-4a29-b54a-36f02b8e8056',\n",
       " 'e40ac3ff-a87d-4bc7-aca2-999f42ea43ac',\n",
       " '0598520f-9da6-4978-976a-ab68233e8ad7',\n",
       " '1cbbae9f-8160-49a1-a4f6-85960102f552',\n",
       " 'a9baf748-9ded-4e2d-a809-786343716e50',\n",
       " 'b2041bcd-ad9b-41ec-98d0-cdbb2989d60e',\n",
       " 'a4171d0d-a3eb-45a4-9fb4-d6cbc4a9b177',\n",
       " 'd1721505-4459-4d0d-9ad3-fc0652f43ee8',\n",
       " '5caf4f89-8858-43a9-b30b-4ef669730319',\n",
       " 'ba5b7ffb-072c-4579-8e98-4cb883556703',\n",
       " 'ee0ba200-407c-47d6-acc5-3f7c9a0a1bbd',\n",
       " '1b9b2982-1814-434d-9c3c-0e2f6a977b65',\n",
       " 'b56f771c-e350-4229-9522-d5bc6da5d6d4']"
      ]
     },
     "execution_count": 11,
     "metadata": {},
     "output_type": "execute_result"
    }
   ],
   "execution_count": 11
  },
  {
   "metadata": {},
   "cell_type": "markdown",
   "source": "## Retrieve information from Vector DB",
   "id": "93ba3bc211c3aad9"
  },
  {
   "metadata": {
    "ExecuteTime": {
     "end_time": "2025-10-21T07:34:16.692787Z",
     "start_time": "2025-10-21T07:34:16.661861Z"
    }
   },
   "cell_type": "code",
   "source": "vector_store.similarity_search_with_relevance_scores('What is Lempel Ziv complexity')",
   "id": "363677ee1f28c3c9",
   "outputs": [
    {
     "data": {
      "text/plain": [
       "[(Document(id='25183b33-4029-4699-8372-2bba619b6d5b', metadata={'split_id': 134, 'level1': '$\\\\begin{array}{c} 362\\\\\\\\ 363 \\\\end{array} \\\\quad \\\\text{Lempel-Ziv complexity (LZC)} \\\\end{array}$', 'table': False, 'level4': 'Hurst exponents', 'length': 119}, page_content='Fig. 4 Potts model Lempel-Ziv complexity (LZC) for Q = 4 (A) and Q = 5 (B). The same shape is observed for both models.'),\n",
       "  0.6629649919359342),\n",
       " (Document(id='77c7589d-c1d2-4bd4-abf1-34e47715468c', metadata={'length': 302, 'level1': '916 Microstate sequence complexity in wake and sleep', 'table': False, 'split_id': 210, 'level4': '1007 1008 References'}, page_content='<span id=\"page-22-0\"></span>1009 1010 1011 1012 Ab´asolo D, da Silva R, Simons S, et al (2014) Lempel-Ziv complexity\\nanalysis of local field potentials in different vigilance states with different coarse-graining techniques. In: Romero\\nR (ed) IFMBE Proceedings, XIII Mediterranean Conference on Medical'),\n",
       "  0.6053016336317847),\n",
       " (Document(id='80e82c9c-a619-4c66-9af3-9cbb6b9c229d', metadata={'table': False, 'length': 264, 'split_id': 28, 'level1': 'Complexity measures for EEG microstate sequences - concepts and algorithms', 'level4': '083 084 Concepts of complexity'}, page_content=\"., is reproduced by a very short\\ninstruction such as 'print A, n times'. As will be explained further below, there are more practical approaches to\\nmeasure Kolmogorov complexity than trying to find the actual program, namely entropy rate and Lempel-Ziv complexity.\"),\n",
       "  0.6033581581532503),\n",
       " (Document(id='cf3138ce-b47e-4de0-819e-2eed9f15923f', metadata={'level1': 'EEG microstate sequences in wake and sleep', 'level4': 'Lempel-Ziv complexity (LZC)', 'table': False, 'split_id': 148, 'length': 229}, page_content='Lempel-Ziv complexity analysis of EEG microstate sequences in wake and sleep is shown in Fig. [7.](#page-15-0) The\\nnumerical LZC values were rescaled to bits/sample and were numerically very close to the entropy estimates in\\nFig.'),\n",
       "  0.5932349487562671)]"
      ]
     },
     "execution_count": 12,
     "metadata": {},
     "output_type": "execute_result"
    }
   ],
   "execution_count": 12
  },
  {
   "metadata": {},
   "cell_type": "markdown",
   "source": "# RAG example",
   "id": "fef62b999a97eeee"
  },
  {
   "metadata": {
    "ExecuteTime": {
     "end_time": "2025-10-21T07:34:16.734480Z",
     "start_time": "2025-10-21T07:34:16.713194Z"
    }
   },
   "cell_type": "code",
   "source": [
    "from langchain_ollama.chat_models import ChatOllama\n",
    "llm = ChatOllama(model='gpt-oss:latest')"
   ],
   "id": "4650f7427f5744e8",
   "outputs": [],
   "execution_count": 13
  },
  {
   "metadata": {
    "ExecuteTime": {
     "end_time": "2025-10-21T07:34:37.096505Z",
     "start_time": "2025-10-21T07:34:36.915123Z"
    }
   },
   "cell_type": "code",
   "source": [
    "from langchain import hub\n",
    "from langgraph.graph import START, StateGraph\n",
    "from typing_extensions import List, TypedDict\n",
    "from langchain_core.documents import Document\n",
    "\n",
    "# Define prompt for question-answering\n",
    "# N.B. for non-US LangSmith endpoints, you may need to specify\n",
    "# api_url=\"https://api.smith.langchain.com\" in hub.pull.\n",
    "prompt = hub.pull(\"rlm/rag-prompt\")\n",
    "\n",
    "\n",
    "# Define state for application\n",
    "class State(TypedDict):\n",
    "    question: str\n",
    "    context: List[Document]\n",
    "    answer: str\n",
    "\n",
    "\n",
    "# Define application steps\n",
    "def retrieve(state: State):\n",
    "    retrieved_docs = vector_store.similarity_search(state[\"question\"])\n",
    "    return {\"context\": retrieved_docs}\n",
    "\n",
    "\n",
    "def generate(state: State):\n",
    "    docs_content = \"\\n\\n\".join(doc.page_content for doc in state[\"context\"])\n",
    "    messages = prompt.invoke({\"question\": state[\"question\"], \"context\": docs_content})\n",
    "    response = llm.invoke(messages)\n",
    "    return {\"answer\": response.content}\n",
    "\n",
    "\n",
    "# Compile application and test\n",
    "graph_builder = StateGraph(State).add_sequence([retrieve, generate])\n",
    "graph_builder.add_edge(START, \"retrieve\")\n",
    "graph = graph_builder.compile()"
   ],
   "id": "bcde904ed71f964a",
   "outputs": [],
   "execution_count": 15
  },
  {
   "metadata": {
    "ExecuteTime": {
     "end_time": "2025-10-21T07:35:15.624318Z",
     "start_time": "2025-10-21T07:35:04.727178Z"
    }
   },
   "cell_type": "code",
   "source": [
    "response = graph.invoke({\"question\": \"How is entropy measured in EEG Microstates\"})\n",
    "print(response[\"answer\"])"
   ],
   "id": "ac8ac4ecf17a567d",
   "outputs": [
    {
     "name": "stdout",
     "output_type": "stream",
     "text": [
      "In EEG microstate analysis entropy is quantified by treating the sequence of microstate labels as a symbolic time series. The **entropy rate** \\(h_X\\) is calculated as the average information per symbol (e.g., via Lempel‑Ziv or statistical‑entropy estimators), reflecting the randomness of the sequence. The **excess entropy** \\(E\\) is derived from the same sequence and measures the amount of predictable structure or long‑range correlations beyond the entropy rate.\n"
     ]
    }
   ],
   "execution_count": 16
  }
 ],
 "metadata": {
  "kernelspec": {
   "display_name": "Python 3",
   "language": "python",
   "name": "python3"
  },
  "language_info": {
   "codemirror_mode": {
    "name": "ipython",
    "version": 2
   },
   "file_extension": ".py",
   "mimetype": "text/x-python",
   "name": "python",
   "nbconvert_exporter": "python",
   "pygments_lexer": "ipython2",
   "version": "2.7.6"
  }
 },
 "nbformat": 4,
 "nbformat_minor": 5
}
